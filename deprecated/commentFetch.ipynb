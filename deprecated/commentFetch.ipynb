{
 "cells": [
  {
   "cell_type": "code",
   "execution_count": 1,
   "metadata": {},
   "outputs": [],
   "source": [
    "import requests\n",
    "from bs4 import BeautifulSoup\n",
    "\n"
   ]
  },
  {
   "cell_type": "code",
   "execution_count": null,
   "metadata": {},
   "outputs": [],
   "source": []
  },
  {
   "cell_type": "code",
   "execution_count": null,
   "metadata": {},
   "outputs": [],
   "source": [
    "def get_article(url):\n",
    "    response = requests.get(url)\n",
    "    soup = BeautifulSoup(response.text, 'html.parser')\n",
    "\n",
    "    # 获取文章标题\n",
    "    title = soup.find('h1').text if soup.find('h1') else None\n",
    "\n",
    "    # 获取文章正文，假设正文在class为'article-content'的div中\n",
    "    content = soup.find('div', class_='article-content').text\n",
    "\n",
    "    # 获取评论，假设每条评论在一个class为'comment-item'的div里\n",
    "    comments = soup.find_all('div', class_='comment-item')\n",
    "    comment_list = []\n",
    "    for comment in comments:\n",
    "        author = comment.find('span', class_='author').text\n",
    "        comment_text = comment.find('p', class_='comment-text').text\n",
    "        comment_list.append({'author': author, 'text': comment_text})\n",
    "\n",
    "    return title, content, comment_list\n",
    "\n",
    "# 主入口\n",
    "url = 'http://example.com/article'\n",
    "title, content, comments = get_article(url)\n",
    "\n",
    "# 存储数据\n",
    "# ... 这里省略了将数据保存到文件或数据库的代码"
   ]
  }
 ],
 "metadata": {
  "kernelspec": {
   "display_name": "gp",
   "language": "python",
   "name": "python3"
  },
  "language_info": {
   "codemirror_mode": {
    "name": "ipython",
    "version": 3
   },
   "file_extension": ".py",
   "mimetype": "text/x-python",
   "name": "python",
   "nbconvert_exporter": "python",
   "pygments_lexer": "ipython3",
   "version": "3.8.18"
  }
 },
 "nbformat": 4,
 "nbformat_minor": 2
}
