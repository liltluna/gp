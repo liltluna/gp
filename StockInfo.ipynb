{
 "cells": [
  {
   "cell_type": "code",
   "execution_count": 1,
   "metadata": {},
   "outputs": [],
   "source": [
    "import tushare as ts\n",
    "import pandas as pd\n",
    "pd.set_option('display.max_columns', None)\n",
    "\n",
    "import shutil\n",
    "import os\n",
    "\n",
    "start_year = 2009\n",
    "gap_year = 9  # 9年作为训练，之后一年用来测试， 2009-2018 2019\n",
    "pro = pro = ts.pro_api(\n",
    "    '19c1ab37c30ca784d8658cf1050c0aba8eef6cb8d7cda5d0744d6bfb')"
   ]
  },
  {
   "cell_type": "code",
   "execution_count": null,
   "metadata": {},
   "outputs": [],
   "source": [
    "columns_to_drop = ['ts_code', 'change', 'pct_chg', 'amount']  # 删除指定的列\n",
    "\n",
    "if not os.path.exists('dataset'):\n",
    "    os.mkdir('dataset')\n",
    "else:\n",
    "    shutil.rmtree('dataset')\n",
    "    os.mkdir('dataset')\n",
    "\n",
    "df = pro.daily(ts_code='000001.SZ', start_date='20090101', end_date='20240101')\n",
    "df.drop(columns=columns_to_drop, inplace=True)\n",
    "df['trade_date'] = pd.to_datetime(df[\"trade_date\"], format=\"%Y%m%d\")\n",
    "df_reversed = df[::-1]\n",
    "df_reversed.to_csv('./dataset/reversed_all_data.csv',\n",
    "                   index=False, header=False)  # index=False 防止保存索引列"
   ]
  },
  {
   "cell_type": "code",
   "execution_count": 2,
   "metadata": {},
   "outputs": [],
   "source": [
    "data = pro.stock_basic(exchange='', list_status='L', fields='ts_code,symbol,name,area,industry,list_date')\n",
    "data.to_csv('./data')"
   ]
  },
  {
   "cell_type": "code",
   "execution_count": 3,
   "metadata": {},
   "outputs": [],
   "source": [
    "df = pro.daily(ts_code='000700.SZ', start_date='20050401', end_date='20240401')\n"
   ]
  },
  {
   "cell_type": "code",
   "execution_count": 5,
   "metadata": {},
   "outputs": [],
   "source": [
    "import pathlib\n",
    "file_path = pathlib.Path('./dataset/graph_label/reversed_all_data.csv')"
   ]
  },
  {
   "cell_type": "code",
   "execution_count": 8,
   "metadata": {},
   "outputs": [
    {
     "data": {
      "text/plain": [
       "<bound method Path.resolve of WindowsPath('dataset/graph_label/reversed_all_data.csv')>"
      ]
     },
     "execution_count": 8,
     "metadata": {},
     "output_type": "execute_result"
    }
   ],
   "source": [
    "file_path.resolve"
   ]
  },
  {
   "cell_type": "code",
   "execution_count": 9,
   "metadata": {},
   "outputs": [
    {
     "ename": "FileExistsError",
     "evalue": "[WinError 183] Cannot create a file when that file already exists: 'dataset\\\\graph_label'",
     "output_type": "error",
     "traceback": [
      "\u001b[1;31m---------------------------------------------------------------------------\u001b[0m",
      "\u001b[1;31mFileExistsError\u001b[0m                           Traceback (most recent call last)",
      "Cell \u001b[1;32mIn[9], line 1\u001b[0m\n\u001b[1;32m----> 1\u001b[0m \u001b[43mos\u001b[49m\u001b[38;5;241;43m.\u001b[39;49m\u001b[43mmkdir\u001b[49m\u001b[43m(\u001b[49m\u001b[43mfile_path\u001b[49m\u001b[38;5;241;43m.\u001b[39;49m\u001b[43mparent\u001b[49m\u001b[43m)\u001b[49m\n",
      "\u001b[1;31mFileExistsError\u001b[0m: [WinError 183] Cannot create a file when that file already exists: 'dataset\\\\graph_label'"
     ]
    }
   ],
   "source": [
    "os.mkdir(file_path.parent)"
   ]
  },
  {
   "cell_type": "code",
   "execution_count": 11,
   "metadata": {},
   "outputs": [
    {
     "data": {
      "text/plain": [
       "WindowsPath('dataset/graph_label/reversed_all_data.csv/shs')"
      ]
     },
     "execution_count": 11,
     "metadata": {},
     "output_type": "execute_result"
    }
   ],
   "source": [
    "file_path/'shs'"
   ]
  },
  {
   "cell_type": "code",
   "execution_count": 12,
   "metadata": {},
   "outputs": [],
   "source": [
    "from utils.formula import *"
   ]
  },
  {
   "cell_type": "code",
   "execution_count": 13,
   "metadata": {},
   "outputs": [
    {
     "data": {
      "text/plain": [
       "'c:\\\\Users\\\\HX\\\\Documents\\\\Graduation Project\\\\code\\\\graduation_project'"
      ]
     },
     "execution_count": 13,
     "metadata": {},
     "output_type": "execute_result"
    }
   ],
   "source": [
    "import os \n",
    "os.getcwd()"
   ]
  },
  {
   "cell_type": "code",
   "execution_count": 19,
   "metadata": {},
   "outputs": [
    {
     "name": "stdout",
     "output_type": "stream",
     "text": [
      "[0, 1, -1, 0, 0, 0]\n"
     ]
    }
   ],
   "source": [
    "import numpy as np\n",
    "\n",
    "def calculate_return_labels(prices, theta=0.2, t_forward=1):\n",
    "    \n",
    "    if len(prices) < t_forward + 1:\n",
    "        raise ValueError(\"ERROE: PRICE LENGTH TOO SHORT\")\n",
    "    \n",
    "    future_prices = prices[t_forward:]\n",
    "    log_returns = np.log(future_prices) - np.log(prices[:-t_forward])\n",
    "    \n",
    "    sorted_returns = np.sort(log_returns)[::-1]\n",
    "    idx_theta = int(len(sorted_returns) * theta)\n",
    "    idx_one_minus_theta = int(len(sorted_returns) * (1 - theta))\n",
    "    r_theta = sorted_returns[idx_theta]\n",
    "    r_one_minus_theta = sorted_returns[idx_one_minus_theta]\n",
    "    \n",
    "    labels = []\n",
    "    for ret in log_returns:\n",
    "        if ret > r_theta:\n",
    "            labels.append(1)\n",
    "        elif ret < r_one_minus_theta:\n",
    "            labels.append(-1)\n",
    "        else:\n",
    "            labels.append(0)\n",
    "    \n",
    "    return labels\n",
    "\n",
    "prices_example = [6.1, 6.2, 6.4, 6.3, 6.5, 6.7, 6.8]\n",
    "\n",
    "# 计算标签\n",
    "labels_result = calculate_return_labels(prices_example, theta=0.2, t_forward=1)\n",
    "print(labels_result)"
   ]
  },
  {
   "cell_type": "code",
   "execution_count": 19,
   "metadata": {},
   "outputs": [],
   "source": [
    "# This is a new version of phase1 constructed with pandas_ta\n",
    "import os\n",
    "import pathlib\n",
    "import pandas as pd\n",
    "import pandas_ta as ta\n",
    "from utils.formula import *\n",
    "from sklearn.preprocessing import MinMaxScaler\n",
    "from warnings import simplefilter\n",
    "simplefilter(action=\"ignore\", category=pd.errors.PerformanceWarning)\n",
    "\n",
    "start = 6\n",
    "end = 21\n",
    "\n",
    "column_names = [\"date\", \"open\", \"high\", \"low\",\n",
    "                \"close\", \"preClose\", \"vol\"]  # Define column names\n",
    "\n",
    "file_path = pathlib.Path('./dataset/reversed_all_data.csv')\n",
    "dir_path = file_path.parent\n",
    "source_data = pd.read_csv(file_path, header=None, names=column_names)\n",
    "source_data['date'] = pd.to_datetime(\n",
    "    source_data[\"date\"], format=\"%Y-%m-%d\")\n",
    "source_data.set_index('date', inplace=True)\n"
   ]
  },
  {
   "cell_type": "code",
   "execution_count": 12,
   "metadata": {},
   "outputs": [],
   "source": [
    "\n"
   ]
  },
  {
   "cell_type": "code",
   "execution_count": 22,
   "metadata": {},
   "outputs": [
    {
     "data": {
      "text/plain": [
       "2790"
      ]
     },
     "execution_count": 22,
     "metadata": {},
     "output_type": "execute_result"
    }
   ],
   "source": [
    "LABELS_list = calculate_trichotomous_LABELS(source_data['close'].tolist(), t_forward=4)\n",
    "\n",
    "source_data.drop(source_data.head(4).index, inplace=True)\n",
    "\n",
    "source_data['LABELS'] = LABELS_list\n",
    "len(source_data)"
   ]
  },
  {
   "cell_type": "code",
   "execution_count": 23,
   "metadata": {},
   "outputs": [
    {
     "data": {
      "text/html": [
       "<div>\n",
       "<style scoped>\n",
       "    .dataframe tbody tr th:only-of-type {\n",
       "        vertical-align: middle;\n",
       "    }\n",
       "\n",
       "    .dataframe tbody tr th {\n",
       "        vertical-align: top;\n",
       "    }\n",
       "\n",
       "    .dataframe thead th {\n",
       "        text-align: right;\n",
       "    }\n",
       "</style>\n",
       "<table border=\"1\" class=\"dataframe\">\n",
       "  <thead>\n",
       "    <tr style=\"text-align: right;\">\n",
       "      <th></th>\n",
       "      <th>open</th>\n",
       "      <th>high</th>\n",
       "      <th>low</th>\n",
       "      <th>close</th>\n",
       "      <th>preClose</th>\n",
       "      <th>vol</th>\n",
       "      <th>LABELS</th>\n",
       "    </tr>\n",
       "    <tr>\n",
       "      <th>date</th>\n",
       "      <th></th>\n",
       "      <th></th>\n",
       "      <th></th>\n",
       "      <th></th>\n",
       "      <th></th>\n",
       "      <th></th>\n",
       "      <th></th>\n",
       "    </tr>\n",
       "  </thead>\n",
       "  <tbody>\n",
       "    <tr>\n",
       "      <th>2012-04-12</th>\n",
       "      <td>6.06</td>\n",
       "      <td>6.19</td>\n",
       "      <td>6.02</td>\n",
       "      <td>6.19</td>\n",
       "      <td>6.07</td>\n",
       "      <td>26472.53</td>\n",
       "      <td>1</td>\n",
       "    </tr>\n",
       "    <tr>\n",
       "      <th>2012-04-13</th>\n",
       "      <td>6.19</td>\n",
       "      <td>6.27</td>\n",
       "      <td>6.15</td>\n",
       "      <td>6.19</td>\n",
       "      <td>6.19</td>\n",
       "      <td>22851.07</td>\n",
       "      <td>1</td>\n",
       "    </tr>\n",
       "    <tr>\n",
       "      <th>2012-04-16</th>\n",
       "      <td>6.12</td>\n",
       "      <td>6.35</td>\n",
       "      <td>6.12</td>\n",
       "      <td>6.29</td>\n",
       "      <td>6.19</td>\n",
       "      <td>28277.61</td>\n",
       "      <td>1</td>\n",
       "    </tr>\n",
       "    <tr>\n",
       "      <th>2012-04-17</th>\n",
       "      <td>6.25</td>\n",
       "      <td>6.34</td>\n",
       "      <td>6.11</td>\n",
       "      <td>6.14</td>\n",
       "      <td>6.29</td>\n",
       "      <td>22915.47</td>\n",
       "      <td>0</td>\n",
       "    </tr>\n",
       "    <tr>\n",
       "      <th>2012-04-18</th>\n",
       "      <td>6.11</td>\n",
       "      <td>6.34</td>\n",
       "      <td>6.11</td>\n",
       "      <td>6.30</td>\n",
       "      <td>6.14</td>\n",
       "      <td>28686.56</td>\n",
       "      <td>0</td>\n",
       "    </tr>\n",
       "    <tr>\n",
       "      <th>...</th>\n",
       "      <td>...</td>\n",
       "      <td>...</td>\n",
       "      <td>...</td>\n",
       "      <td>...</td>\n",
       "      <td>...</td>\n",
       "      <td>...</td>\n",
       "      <td>...</td>\n",
       "    </tr>\n",
       "    <tr>\n",
       "      <th>2024-03-26</th>\n",
       "      <td>7.00</td>\n",
       "      <td>7.70</td>\n",
       "      <td>6.92</td>\n",
       "      <td>7.64</td>\n",
       "      <td>7.01</td>\n",
       "      <td>1158186.56</td>\n",
       "      <td>1</td>\n",
       "    </tr>\n",
       "    <tr>\n",
       "      <th>2024-03-27</th>\n",
       "      <td>7.36</td>\n",
       "      <td>7.38</td>\n",
       "      <td>6.88</td>\n",
       "      <td>6.88</td>\n",
       "      <td>7.64</td>\n",
       "      <td>717638.47</td>\n",
       "      <td>0</td>\n",
       "    </tr>\n",
       "    <tr>\n",
       "      <th>2024-03-28</th>\n",
       "      <td>6.66</td>\n",
       "      <td>7.23</td>\n",
       "      <td>6.66</td>\n",
       "      <td>7.09</td>\n",
       "      <td>6.88</td>\n",
       "      <td>567817.67</td>\n",
       "      <td>1</td>\n",
       "    </tr>\n",
       "    <tr>\n",
       "      <th>2024-03-29</th>\n",
       "      <td>7.59</td>\n",
       "      <td>7.65</td>\n",
       "      <td>7.09</td>\n",
       "      <td>7.15</td>\n",
       "      <td>7.09</td>\n",
       "      <td>815853.57</td>\n",
       "      <td>0</td>\n",
       "    </tr>\n",
       "    <tr>\n",
       "      <th>2024-04-01</th>\n",
       "      <td>7.18</td>\n",
       "      <td>7.46</td>\n",
       "      <td>7.07</td>\n",
       "      <td>7.31</td>\n",
       "      <td>7.15</td>\n",
       "      <td>732987.33</td>\n",
       "      <td>-1</td>\n",
       "    </tr>\n",
       "  </tbody>\n",
       "</table>\n",
       "<p>2790 rows × 7 columns</p>\n",
       "</div>"
      ],
      "text/plain": [
       "            open  high   low  close  preClose         vol  LABELS\n",
       "date                                                             \n",
       "2012-04-12  6.06  6.19  6.02   6.19      6.07    26472.53       1\n",
       "2012-04-13  6.19  6.27  6.15   6.19      6.19    22851.07       1\n",
       "2012-04-16  6.12  6.35  6.12   6.29      6.19    28277.61       1\n",
       "2012-04-17  6.25  6.34  6.11   6.14      6.29    22915.47       0\n",
       "2012-04-18  6.11  6.34  6.11   6.30      6.14    28686.56       0\n",
       "...          ...   ...   ...    ...       ...         ...     ...\n",
       "2024-03-26  7.00  7.70  6.92   7.64      7.01  1158186.56       1\n",
       "2024-03-27  7.36  7.38  6.88   6.88      7.64   717638.47       0\n",
       "2024-03-28  6.66  7.23  6.66   7.09      6.88   567817.67       1\n",
       "2024-03-29  7.59  7.65  7.09   7.15      7.09   815853.57       0\n",
       "2024-04-01  7.18  7.46  7.07   7.31      7.15   732987.33      -1\n",
       "\n",
       "[2790 rows x 7 columns]"
      ]
     },
     "execution_count": 23,
     "metadata": {},
     "output_type": "execute_result"
    }
   ],
   "source": [
    "\n",
    "source_data"
   ]
  },
  {
   "cell_type": "code",
   "execution_count": null,
   "metadata": {},
   "outputs": [],
   "source": []
  }
 ],
 "metadata": {
  "kernelspec": {
   "display_name": "gp",
   "language": "python",
   "name": "python3"
  },
  "language_info": {
   "codemirror_mode": {
    "name": "ipython",
    "version": 3
   },
   "file_extension": ".py",
   "mimetype": "text/x-python",
   "name": "python",
   "nbconvert_exporter": "python",
   "pygments_lexer": "ipython3",
   "version": "3.8.18"
  }
 },
 "nbformat": 4,
 "nbformat_minor": 2
}
