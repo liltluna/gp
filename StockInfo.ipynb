{
 "cells": [
  {
   "cell_type": "code",
   "execution_count": 1,
   "metadata": {},
   "outputs": [],
   "source": [
    "import tushare as ts\n",
    "import pandas as pd\n",
    "pd.set_option('display.max_columns', None)\n",
    "\n",
    "import shutil\n",
    "import os\n",
    "\n",
    "start_year = 2009\n",
    "gap_year = 9  # 9年作为训练，之后一年用来测试， 2009-2018 2019\n",
    "pro = pro = ts.pro_api(\n",
    "    '19c1ab37c30ca784d8658cf1050c0aba8eef6cb8d7cda5d0744d6bfb')"
   ]
  },
  {
   "cell_type": "code",
   "execution_count": null,
   "metadata": {},
   "outputs": [],
   "source": [
    "columns_to_drop = ['ts_code', 'change', 'pct_chg', 'amount']  # 删除指定的列\n",
    "\n",
    "if not os.path.exists('dataset'):\n",
    "    os.mkdir('dataset')\n",
    "else:\n",
    "    shutil.rmtree('dataset')\n",
    "    os.mkdir('dataset')\n",
    "\n",
    "df = pro.daily(ts_code='000001.SZ', start_date='20090101', end_date='20240101')\n",
    "df.drop(columns=columns_to_drop, inplace=True)\n",
    "df['trade_date'] = pd.to_datetime(df[\"trade_date\"], format=\"%Y%m%d\")\n",
    "df_reversed = df[::-1]\n",
    "df_reversed.to_csv('./dataset/reversed_all_data.csv',\n",
    "                   index=False, header=False)  # index=False 防止保存索引列"
   ]
  },
  {
   "cell_type": "code",
   "execution_count": 4,
   "metadata": {},
   "outputs": [],
   "source": [
    "df = pro.index_basic(market='SSE')\n",
    "df.to_csv('./index.csv')"
   ]
  },
  {
   "cell_type": "code",
   "execution_count": 3,
   "metadata": {},
   "outputs": [],
   "source": []
  },
  {
   "cell_type": "code",
   "execution_count": null,
   "metadata": {},
   "outputs": [],
   "source": []
  }
 ],
 "metadata": {
  "kernelspec": {
   "display_name": "gp",
   "language": "python",
   "name": "python3"
  },
  "language_info": {
   "codemirror_mode": {
    "name": "ipython",
    "version": 3
   },
   "file_extension": ".py",
   "mimetype": "text/x-python",
   "name": "python",
   "nbconvert_exporter": "python",
   "pygments_lexer": "ipython3",
   "version": "3.8.18"
  }
 },
 "nbformat": 4,
 "nbformat_minor": 2
}
